{
 "cells": [
  {
   "cell_type": "markdown",
   "metadata": {},
   "source": [
    "# Character-Level LSTM in PyTorch\n",
    "\n",
    "The network will train character by character on some text, then generate new text character by character. As an example, it'll use the text of \"Alice in Wonderland\". **This model will be able to generate new text based on the text from the book!**\n",
    "\n",
    "This network is based off of Andrej Karpathy's [post on RNNs](http://karpathy.github.io/2015/05/21/rnn-effectiveness/) and [implementation in Torch](https://github.com/karpathy/char-rnn). Below is the general architecture of the character-wise RNN.\n",
    "\n",
    "<img src=\"assets/charseq.jpeg\" width=\"500\">"
   ]
  },
  {
   "cell_type": "markdown",
   "metadata": {},
   "source": [
    "First let's load in our required resources for data loading and model creation."
   ]
  },
  {
   "cell_type": "code",
   "execution_count": 144,
   "metadata": {},
   "outputs": [],
   "source": [
    "import numpy as np\n",
    "import torch\n",
    "from torch import nn\n",
    "import torch.nn.functional as F"
   ]
  },
  {
   "cell_type": "markdown",
   "metadata": {},
   "source": [
    "## Load in Data\n",
    "\n",
    "Then, we'll load the \"Alice in Wonderland\" text file and convert it into integers for our network to use. "
   ]
  },
  {
   "cell_type": "code",
   "execution_count": 145,
   "metadata": {},
   "outputs": [],
   "source": [
    "# open text file and read in data as `text`\n",
    "with open('alice.txt', 'r') as f:\n",
    "    text = f.read()"
   ]
  },
  {
   "cell_type": "markdown",
   "metadata": {},
   "source": [
    "Let's check out the first 100 characters, make sure everything is peachy."
   ]
  },
  {
   "cell_type": "code",
   "execution_count": 146,
   "metadata": {},
   "outputs": [
    {
     "data": {
      "text/plain": [
       "'Alice’s Adventures in Wonderland\\n\\nby Lewis Carroll\\n\\nTHE MILLENNIUM FULCRUM EDITION 3.0\\n\\nContents\\n\\n C'"
      ]
     },
     "execution_count": 146,
     "metadata": {},
     "output_type": "execute_result"
    }
   ],
   "source": [
    "text[:100]"
   ]
  },
  {
   "cell_type": "markdown",
   "metadata": {},
   "source": [
    "### Tokenization\n",
    "\n",
    "In the cells, below, I'm creating a couple **dictionaries** to convert the characters to and from integers. Encoding the characters as integers makes it easier to use as input in the network."
   ]
  },
  {
   "cell_type": "code",
   "execution_count": 147,
   "metadata": {},
   "outputs": [],
   "source": [
    "# encode the text and map each character to an integer and vice versa\n",
    "\n",
    "# we create two dictionaries:\n",
    "# 1. int2char, which maps integers to characters\n",
    "# 2. char2int, which maps characters to unique integers\n",
    "chars = tuple(set(text))\n",
    "int2char = dict(enumerate(chars))\n",
    "char2int = {ch: ii for ii, ch in int2char.items()}\n",
    "\n",
    "# encode the text\n",
    "encoded = np.array([char2int[ch] for ch in text])"
   ]
  },
  {
   "cell_type": "markdown",
   "metadata": {},
   "source": [
    "And we can see those same characters from above, encoded as integers."
   ]
  },
  {
   "cell_type": "code",
   "execution_count": 148,
   "metadata": {},
   "outputs": [
    {
     "data": {
      "text/plain": [
       "array([79, 26, 62, 44, 13, 83, 10,  0, 79, 68,  6, 13, 74, 27, 25, 77, 13,\n",
       "       10,  0, 62, 74,  0, 52, 72, 74, 68, 13, 77, 26, 60, 74, 68, 31, 31,\n",
       "       22, 18,  0,  5, 13, 86, 62, 10,  0, 73, 60, 77, 77, 72, 26, 26, 31,\n",
       "       31, 53, 78, 30,  0, 15, 17,  5,  5, 30, 46, 46, 17, 65, 15,  0, 67,\n",
       "       65,  5, 73, 87, 65, 15,  0, 30, 76, 17, 53, 17, 61, 46,  0,  7, 56,\n",
       "        4, 31, 31, 73, 72, 74, 27, 13, 74, 27, 10, 31, 31,  0, 73])"
      ]
     },
     "execution_count": 148,
     "metadata": {},
     "output_type": "execute_result"
    }
   ],
   "source": [
    "encoded[:100]"
   ]
  },
  {
   "cell_type": "markdown",
   "metadata": {},
   "source": [
    "## Pre-processing the data\n",
    "\n",
    "As you can see in our char-RNN image above, our LSTM expects an input that is **one-hot encoded** meaning that each character is converted into an integer (via our created dictionary) and *then* converted into a column vector where only it's corresponding integer index will have the value of 1 and the rest of the vector will be filled with 0's. Since we're one-hot encoding the data, let's make a function to do that!\n"
   ]
  },
  {
   "cell_type": "code",
   "execution_count": 149,
   "metadata": {},
   "outputs": [],
   "source": [
    "def one_hot_encode(arr, n_labels):\n",
    "    \n",
    "    # Initialize the the encoded array\n",
    "    one_hot = np.zeros((np.multiply(*arr.shape), n_labels), dtype=np.float32)\n",
    "    \n",
    "    # Fill the appropriate elements with ones\n",
    "    one_hot[np.arange(one_hot.shape[0]), arr.flatten()] = 1.\n",
    "    \n",
    "    # Finally reshape it to get back to the original array\n",
    "    one_hot = one_hot.reshape((*arr.shape, n_labels))\n",
    "    \n",
    "    return one_hot"
   ]
  },
  {
   "cell_type": "code",
   "execution_count": 150,
   "metadata": {},
   "outputs": [
    {
     "name": "stdout",
     "output_type": "stream",
     "text": [
      "[[[0. 0. 0. 1. 0. 0. 0. 0.]\n",
      "  [0. 0. 0. 0. 0. 1. 0. 0.]\n",
      "  [0. 1. 0. 0. 0. 0. 0. 0.]]]\n"
     ]
    }
   ],
   "source": [
    "# check that the function works as expected\n",
    "test_seq = np.array([[3, 5, 1]])\n",
    "one_hot = one_hot_encode(test_seq, 8)\n",
    "\n",
    "print(one_hot)"
   ]
  },
  {
   "cell_type": "markdown",
   "metadata": {},
   "source": [
    "## Making training mini-batches\n",
    "\n",
    "\n",
    "To train on this data, we also want to create mini-batches for training. Remember that we want our batches to be multiple sequences of some desired number of sequence steps. Considering a simple example, our batches would look like this:\n",
    "\n",
    "<img src=\"assets/sequence_batching@1x.png\" width=500px>\n",
    "\n",
    "\n",
    "<br>\n",
    "\n",
    "In this example, we'll take the encoded characters (passed in as the `arr` parameter) and split them into multiple sequences, given by `batch_size`. Each of our sequences will be `seq_length` long.\n",
    "\n",
    "### Creating Batches\n",
    "\n",
    "**1. The first thing we need to do is discard some of the text so we only have completely full mini-batches. **\n",
    "\n",
    "Each batch contains $N \\times M$ characters, where $N$ is the batch size (the number of sequences in a batch) and $M$ is the seq_length or number of time steps in a sequence. Then, to get the total number of batches, $K$, that we can make from the array `arr`, you divide the length of `arr` by the number of characters per batch. Once you know the number of batches, you can get the total number of characters to keep from `arr`, $N * M * K$.\n",
    "\n",
    "**2. After that, we need to split `arr` into $N$ batches. ** \n",
    "\n",
    "You can do this using `arr.reshape(size)` where `size` is a tuple containing the dimensions sizes of the reshaped array. We know we want $N$ sequences in a batch, so let's make that the size of the first dimension. For the second dimension, you can use `-1` as a placeholder in the size, it'll fill up the array with the appropriate data for you. After this, you should have an array that is $N \\times (M * K)$.\n",
    "\n",
    "**3. Now that we have this array, we can iterate through it to get our mini-batches. **\n",
    "\n",
    "The idea is each batch is a $N \\times M$ window on the $N \\times (M * K)$ array. For each subsequent batch, the window moves over by `seq_length`. We also want to create both the input and target arrays. Remember that the targets are just the inputs shifted over by one character. The way I like to do this window is use `range` to take steps of size `n_steps` from $0$ to `arr.shape[1]`, the total number of tokens in each sequence. That way, the integers you get from `range` always point to the start of a batch, and each window is `seq_length` wide."
   ]
  },
  {
   "cell_type": "code",
   "execution_count": 172,
   "metadata": {},
   "outputs": [],
   "source": [
    "def get_batches(arr, batch_size, seq_length):\n",
    "    '''Create a generator that returns batches of size\n",
    "       batch_size x seq_length from arr.\n",
    "       \n",
    "       Arguments\n",
    "       ---------\n",
    "       arr: Array you want to make batches from\n",
    "       batch_size: Batch size, the number of sequences per batch\n",
    "       seq_length: Number of encoded chars in a sequence\n",
    "    '''\n",
    "    \n",
    "    ## TODO: Get the number of batches we can make\n",
    "    n_batches = len(arr) // seq_length // batch_size\n",
    "    \n",
    "    ## TODO: Keep only enough characters to make full batches\n",
    "    arr = arr[:seq_length * batch_size * n_batches]\n",
    "    \n",
    "    ## TODO: Reshape into batch_size rows\n",
    "    arr = arr.reshape((batch_size, -1))\n",
    "    \n",
    "    ## TODO: Iterate over the batches using a window of size seq_length\n",
    "    for n in range(0, n_batches - 1):\n",
    "        # The features\n",
    "        x = arr[:, seq_length * n: seq_length * (n + 1)]\n",
    "        # The targets, shifted by one\n",
    "        y = arr[:, seq_length * n + 1: seq_length * (n + 1) + 1]\n",
    "        yield x, y"
   ]
  },
  {
   "cell_type": "markdown",
   "metadata": {},
   "source": [
    "### Test Your Implementation\n",
    "\n",
    "Now I'll make some data sets and we can check out what's going on as we batch data. Here, as an example, I'm going to use a batch size of 8 and 50 sequence steps."
   ]
  },
  {
   "cell_type": "code",
   "execution_count": 173,
   "metadata": {},
   "outputs": [],
   "source": [
    "batches = get_batches(encoded, 8, 50)\n",
    "x, y = next(batches)"
   ]
  },
  {
   "cell_type": "code",
   "execution_count": 174,
   "metadata": {},
   "outputs": [
    {
     "name": "stdout",
     "output_type": "stream",
     "text": [
      "x\n",
      " [[79 26 62 44 13 83 10  0 79 68]\n",
      " [34 72  0 10 14 13  0 22 13 21]\n",
      " [72 25 26 68 16  0 60 74 68  0]\n",
      " [66  0 27 14 13  0 67 72 72 27]\n",
      " [10 60 62 68 16  0 29 17 27  0]\n",
      " [60 77 21 13  0 37 25 10 27 60]\n",
      " [72  0 63 31 13 74 74 18 86 72]\n",
      " [13 60 74 62 74 21  0 14 13 77]]\n",
      "\n",
      "y\n",
      " [[26 62 44 13 83 10  0 79 68  6]\n",
      " [72  0 10 14 13  0 22 13 21 60]\n",
      " [25 26 68 16  0 60 74 68  0 86]\n",
      " [ 0 27 14 13  0 67 72 72 27 37]\n",
      " [60 62 68 16  0 29 17 27  0 86]\n",
      " [77 21 13  0 37 25 10 27 60 77]\n",
      " [ 0 63 31 13 74 74 18 86 72 77]\n",
      " [60 74 62 74 21  0 14 13 77  0]]\n"
     ]
    }
   ],
   "source": [
    "# printing out the first 10 items in a sequence\n",
    "print('x\\n', x[:10, :10])\n",
    "print('\\ny\\n', y[:10, :10])"
   ]
  },
  {
   "cell_type": "markdown",
   "metadata": {},
   "source": [
    "If you implemented `get_batches` correctly, the above output should look something like \n",
    "```\n",
    "x\n",
    " [[25  8 60 11 45 27 28 73  1  2]\n",
    " [17  7 20 73 45  8 60 45 73 60]\n",
    " [27 20 80 73  7 28 73 60 73 65]\n",
    " [17 73 45  8 27 73 66  8 46 27]\n",
    " [73 17 60 12 73  8 27 28 73 45]\n",
    " [66 64 17 17 46  7 20 73 60 20]\n",
    " [73 76 20 20 60 73  8 60 80 73]\n",
    " [47 35 43  7 20 17 24 50 37 73]]\n",
    "\n",
    "y\n",
    " [[ 8 60 11 45 27 28 73  1  2  2]\n",
    " [ 7 20 73 45  8 60 45 73 60 45]\n",
    " [20 80 73  7 28 73 60 73 65  7]\n",
    " [73 45  8 27 73 66  8 46 27 65]\n",
    " [17 60 12 73  8 27 28 73 45 27]\n",
    " [64 17 17 46  7 20 73 60 20 80]\n",
    " [76 20 20 60 73  8 60 80 73 17]\n",
    " [35 43  7 20 17 24 50 37 73 36]]\n",
    " ```\n",
    " although the exact numbers may be different. Check to make sure the data is shifted over one step for `y`."
   ]
  },
  {
   "cell_type": "markdown",
   "metadata": {},
   "source": [
    "---\n",
    "## Defining the network with PyTorch\n",
    "\n",
    "Below is where you'll define the network.\n",
    "\n",
    "<img src=\"assets/charRNN.png\" width=500px>\n",
    "\n",
    "Next, you'll use PyTorch to define the architecture of the network. We start by defining the layers and operations we want. Then, define a method for the forward pass. You've also been given a method for predicting characters."
   ]
  },
  {
   "cell_type": "markdown",
   "metadata": {},
   "source": [
    "### Model Structure\n",
    "\n",
    "In `__init__` the suggested structure is as follows:\n",
    "* Create and store the necessary dictionaries (this has been done for you)\n",
    "* Define an LSTM layer that takes as params: an input size (the number of characters), a hidden layer size `n_hidden`, a number of layers `n_layers`, a dropout probability `drop_prob`, and a batch_first boolean (True, since we are batching)\n",
    "* Define a dropout layer with `dropout_prob`\n",
    "* Define a fully-connected layer with params: input size `n_hidden` and output size (the number of characters)\n",
    "* Finally, initialize the weights (again, this has been given)\n",
    "\n",
    "Note that some parameters have been named and given in the `__init__` function, and we use them and store them by doing something like `self.drop_prob = drop_prob`."
   ]
  },
  {
   "cell_type": "markdown",
   "metadata": {},
   "source": [
    "---\n",
    "### LSTM Inputs/Outputs\n",
    "\n",
    "You can create a basic [LSTM layer](https://pytorch.org/docs/stable/nn.html#lstm) as follows\n",
    "\n",
    "```python\n",
    "self.lstm = nn.LSTM(input_size, n_hidden, n_layers, \n",
    "                            dropout=drop_prob, batch_first=True)\n",
    "```\n",
    "\n",
    "where `input_size` is the number of characters this cell expects to see as sequential input, and `n_hidden` is the number of units in the hidden layers in the cell. And we can add dropout by adding a dropout parameter with a specified probability; this will automatically add dropout to the inputs or outputs. Finally, in the `forward` function, we can stack up the LSTM cells into layers using `.view`. With this, you pass in a list of cells and it will send the output of one cell into the next cell.\n",
    "\n",
    "We also need to create an initial hidden state of all zeros. This is done like so\n",
    "\n",
    "```python\n",
    "self.init_hidden()\n",
    "```"
   ]
  },
  {
   "cell_type": "code",
   "execution_count": 175,
   "metadata": {},
   "outputs": [
    {
     "name": "stdout",
     "output_type": "stream",
     "text": [
      "No GPU available, training on CPU; consider making n_epochs very small.\n"
     ]
    }
   ],
   "source": [
    "# check if GPU is available (replace with \"backends.cuda\" below if Nvidia GPU is available)\n",
    "train_on_gpu = torch.backends.mps.is_available()\n",
    "device = \"cpu\"\n",
    "if(train_on_gpu):\n",
    "    print('Training on GPU!')\n",
    "    device = \"mps\"\n",
    "else: \n",
    "    print('No GPU available, training on CPU; consider making n_epochs very small.')"
   ]
  },
  {
   "cell_type": "code",
   "execution_count": 176,
   "metadata": {},
   "outputs": [],
   "source": [
    "class CharRNN(nn.Module):\n",
    "    \n",
    "    def __init__(self, tokens, n_hidden=256, n_layers=2,\n",
    "                               drop_prob=0.5, lr=0.001):\n",
    "        super().__init__()\n",
    "        self.drop_prob = drop_prob\n",
    "        self.n_layers = n_layers\n",
    "        self.n_hidden = n_hidden\n",
    "        self.lr = lr\n",
    "        \n",
    "        # creating character dictionaries\n",
    "        self.chars = tokens\n",
    "        self.int2char = dict(enumerate(self.chars))\n",
    "        self.char2int = {ch: ii for ii, ch in self.int2char.items()}\n",
    "        \n",
    "        ## TODO: define the layers of the model\n",
    "        self.lstm = nn.LSTM(len(self.chars), n_hidden, n_layers, dropout=drop_prob, batch_first=True)\n",
    "        \n",
    "        ## TODO: define a dropout layer\n",
    "        self.dropout = nn.Dropout(drop_prob)\n",
    "        \n",
    "        ## TODO: define the final, fully-connected output layer\n",
    "        self.fc = nn.Linear(n_hidden, len(self.chars))\n",
    "    \n",
    "    def forward(self, x, hidden):\n",
    "        ''' Forward pass through the network. \n",
    "            These inputs are x, and the hidden/cell state `hidden`. '''\n",
    "                \n",
    "        ## TODO: Get the outputs and the new hidden state from the lstm\n",
    "        out, hidden = self.lstm(x, hidden)\n",
    "        out = self.dropout(out)\n",
    "        out = out.contiguous().view(-1, self.n_hidden)\n",
    "        out = self.fc(out)\n",
    "        # return the final output and the hidden state\n",
    "        return out, hidden\n",
    "    \n",
    "    \n",
    "    def init_hidden(self, batch_size):\n",
    "        ''' Initializes hidden state '''\n",
    "        # Create two new tensors with sizes n_layers x batch_size x n_hidden,\n",
    "        # initialized to zero, for hidden state and cell state of LSTM\n",
    "        weight = next(self.parameters()).data\n",
    "        \n",
    "        if (train_on_gpu):\n",
    "            hidden = (weight.new(self.n_layers, batch_size, self.n_hidden).zero_().to(device),\n",
    "                  weight.new(self.n_layers, batch_size, self.n_hidden).zero_().to(device))\n",
    "        else:\n",
    "            hidden = (weight.new(self.n_layers, batch_size, self.n_hidden).zero_(),\n",
    "                      weight.new(self.n_layers, batch_size, self.n_hidden).zero_())\n",
    "        \n",
    "        return hidden\n",
    "        "
   ]
  },
  {
   "cell_type": "markdown",
   "metadata": {},
   "source": [
    "## Time to train\n",
    "\n",
    "The train function gives us the ability to set the number of epochs, the learning rate, and other parameters.\n",
    "\n",
    "Below we're using an Adam optimizer and cross entropy loss since we are looking at character class scores as output. We calculate the loss and perform backpropagation, as usual!\n",
    "\n",
    "A couple of details about training: \n",
    ">* Within the batch loop, we detach the hidden state from its history; this time setting it equal to a new *tuple* variable because an LSTM has a hidden state that is a tuple of the hidden and cell states.\n",
    "* We use [`clip_grad_norm_`](https://pytorch.org/docs/stable/_modules/torch/nn/utils/clip_grad.html) to help prevent exploding gradients."
   ]
  },
  {
   "cell_type": "code",
   "execution_count": 183,
   "metadata": {},
   "outputs": [],
   "source": [
    "def train(net, data, epochs=10, batch_size=10, seq_length=50, lr=0.001, clip=5, val_frac=0.1, print_every=10):\n",
    "    ''' Training a network \n",
    "    \n",
    "        Arguments\n",
    "        ---------\n",
    "        \n",
    "        net: CharRNN network\n",
    "        data: text data to train the network\n",
    "        epochs: Number of epochs to train\n",
    "        batch_size: Number of mini-sequences per mini-batch, aka batch size\n",
    "        seq_length: Number of character steps per mini-batch\n",
    "        lr: learning rate\n",
    "        clip: gradient clipping\n",
    "        val_frac: Fraction of data to hold out for validation\n",
    "        print_every: Number of steps for printing training and validation loss\n",
    "    \n",
    "    '''\n",
    "    net.train()\n",
    "    \n",
    "    opt = torch.optim.Adam(net.parameters(), lr=lr)\n",
    "    criterion = nn.CrossEntropyLoss()\n",
    "    \n",
    "    # create training and validation data\n",
    "    val_idx = int(len(data)*(1-val_frac))\n",
    "    data, val_data = data[:val_idx], data[val_idx:]\n",
    "    \n",
    "    if(train_on_gpu):\n",
    "        net.to(device)\n",
    "    \n",
    "    counter = 0\n",
    "    n_chars = len(net.chars)\n",
    "    for e in range(epochs):\n",
    "        # initialize hidden state\n",
    "        h = net.init_hidden(batch_size)\n",
    "        \n",
    "        for x, y in get_batches(data, batch_size, seq_length):\n",
    "            counter += 1\n",
    "            \n",
    "            # One-hot encode our data and make them Torch tensors\n",
    "            x = one_hot_encode(x, n_chars)\n",
    "            inputs, targets = torch.from_numpy(x), torch.from_numpy(y)\n",
    "            \n",
    "            if(train_on_gpu):\n",
    "                inputs, targets = inputs.to(device), targets.to(device)\n",
    "\n",
    "            # Creating new variables for the hidden state, otherwise\n",
    "            # we'd backprop through the entire training history\n",
    "            h = tuple([each.data for each in h])\n",
    "\n",
    "            # zero accumulated gradients\n",
    "            net.zero_grad()\n",
    "            \n",
    "            # get the output from the model\n",
    "            output, h = net(inputs, h)\n",
    "            \n",
    "            # calculate the loss and perform backprop\n",
    "            loss = criterion(output, targets.reshape(batch_size*seq_length))\n",
    "            loss.backward()\n",
    "            # `clip_grad_norm` helps prevent the exploding gradient problem in RNNs / LSTMs.\n",
    "            nn.utils.clip_grad_norm_(net.parameters(), clip)\n",
    "            opt.step()\n",
    "            \n",
    "            # loss stats\n",
    "            if counter % print_every == 0:\n",
    "                # Get validation loss\n",
    "                val_h = net.init_hidden(batch_size)\n",
    "                val_losses = []\n",
    "                net.eval()\n",
    "                for x, y in get_batches(val_data, batch_size, seq_length):\n",
    "                    # One-hot encode our data and make them Torch tensors\n",
    "                    x = one_hot_encode(x, n_chars)\n",
    "                    x, y = torch.from_numpy(x), torch.from_numpy(y)\n",
    "                    \n",
    "                    # Creating new variables for the hidden state, otherwise\n",
    "                    # we'd backprop through the entire training history\n",
    "                    val_h = tuple([each.data for each in val_h])\n",
    "                    \n",
    "                    inputs, targets = x, y\n",
    "                    if(train_on_gpu):\n",
    "                        inputs, targets = inputs.to(device), targets.to(device)\n",
    "\n",
    "                    output, val_h = net(inputs, val_h)\n",
    "                    val_loss = criterion(output, targets.reshape(batch_size*seq_length))\n",
    "                \n",
    "                    val_losses.append(val_loss.item())\n",
    "                \n",
    "                net.train() # reset to train mode after iterationg through validation data\n",
    "                \n",
    "                print(\"Epoch: {}/{}...\".format(e+1, epochs),\n",
    "                      \"Step: {}...\".format(counter),\n",
    "                      \"Loss: {:.4f}...\".format(loss.item()),\n",
    "                      \"Val Loss: {:.4f}\".format(np.mean(val_losses)))"
   ]
  },
  {
   "cell_type": "markdown",
   "metadata": {},
   "source": [
    "## Instantiating the model\n",
    "\n",
    "Now we can actually train the network. First we'll create the network itself, with some given hyperparameters. Then, define the mini-batches sizes, and start training!"
   ]
  },
  {
   "cell_type": "code",
   "execution_count": 184,
   "metadata": {},
   "outputs": [
    {
     "name": "stdout",
     "output_type": "stream",
     "text": [
      "CharRNN(\n",
      "  (lstm): LSTM(89, 128, num_layers=2, batch_first=True, dropout=0.5)\n",
      "  (dropout): Dropout(p=0.5, inplace=False)\n",
      "  (fc): Linear(in_features=128, out_features=89, bias=True)\n",
      ")\n"
     ]
    }
   ],
   "source": [
    "## TODO: set you model hyperparameters\n",
    "\n",
    "n_hidden = 128\n",
    "n_layers = 2\n",
    "\n",
    "net = CharRNN(tokens=chars, n_hidden=n_hidden, n_layers=n_layers)\n",
    "print(net)"
   ]
  },
  {
   "cell_type": "markdown",
   "metadata": {},
   "source": [
    "### Set your training hyperparameters!"
   ]
  },
  {
   "cell_type": "code",
   "execution_count": 186,
   "metadata": {
    "scrolled": true
   },
   "outputs": [
    {
     "name": "stdout",
     "output_type": "stream",
     "text": [
      "Epoch: 1/50... Step: 10... Loss: 2.5671... Val Loss: 3.0226\n",
      "Epoch: 1/50... Step: 20... Loss: 2.6557... Val Loss: 3.0166\n",
      "Epoch: 1/50... Step: 30... Loss: 2.5394... Val Loss: 3.0066\n",
      "Epoch: 1/50... Step: 40... Loss: 2.5686... Val Loss: 3.0211\n",
      "Epoch: 2/50... Step: 50... Loss: 2.6071... Val Loss: 2.9866\n",
      "Epoch: 2/50... Step: 60... Loss: 2.5326... Val Loss: 2.9942\n",
      "Epoch: 2/50... Step: 70... Loss: 2.4897... Val Loss: 3.0167\n",
      "Epoch: 2/50... Step: 80... Loss: 2.5361... Val Loss: 2.9939\n",
      "Epoch: 3/50... Step: 90... Loss: 2.6186... Val Loss: 2.9774\n",
      "Epoch: 3/50... Step: 100... Loss: 2.5216... Val Loss: 2.9803\n",
      "Epoch: 3/50... Step: 110... Loss: 2.4803... Val Loss: 2.9743\n",
      "Epoch: 3/50... Step: 120... Loss: 2.4964... Val Loss: 2.9940\n",
      "Epoch: 3/50... Step: 130... Loss: 2.5255... Val Loss: 2.9608\n",
      "Epoch: 4/50... Step: 140... Loss: 2.4830... Val Loss: 2.9624\n",
      "Epoch: 4/50... Step: 150... Loss: 2.4523... Val Loss: 2.9553\n",
      "Epoch: 4/50... Step: 160... Loss: 2.5226... Val Loss: 2.9504\n",
      "Epoch: 4/50... Step: 170... Loss: 2.4488... Val Loss: 2.9321\n",
      "Epoch: 5/50... Step: 180... Loss: 2.5236... Val Loss: 2.9246\n",
      "Epoch: 5/50... Step: 190... Loss: 2.4707... Val Loss: 2.9334\n",
      "Epoch: 5/50... Step: 200... Loss: 2.5000... Val Loss: 2.9154\n",
      "Epoch: 5/50... Step: 210... Loss: 2.4403... Val Loss: 2.9108\n",
      "Epoch: 5/50... Step: 220... Loss: 2.4217... Val Loss: 2.9064\n",
      "Epoch: 6/50... Step: 230... Loss: 2.3966... Val Loss: 2.9114\n",
      "Epoch: 6/50... Step: 240... Loss: 2.4989... Val Loss: 2.8985\n",
      "Epoch: 6/50... Step: 250... Loss: 2.3810... Val Loss: 2.8954\n",
      "Epoch: 6/50... Step: 260... Loss: 2.4217... Val Loss: 2.9003\n",
      "Epoch: 7/50... Step: 270... Loss: 2.4621... Val Loss: 2.8959\n",
      "Epoch: 7/50... Step: 280... Loss: 2.4000... Val Loss: 2.9109\n",
      "Epoch: 7/50... Step: 290... Loss: 2.3372... Val Loss: 2.9068\n",
      "Epoch: 7/50... Step: 300... Loss: 2.4033... Val Loss: 2.8914\n",
      "Epoch: 8/50... Step: 310... Loss: 2.4551... Val Loss: 2.8812\n",
      "Epoch: 8/50... Step: 320... Loss: 2.3749... Val Loss: 2.8817\n",
      "Epoch: 8/50... Step: 330... Loss: 2.3490... Val Loss: 2.9066\n",
      "Epoch: 8/50... Step: 340... Loss: 2.3669... Val Loss: 2.9036\n",
      "Epoch: 8/50... Step: 350... Loss: 2.3933... Val Loss: 2.8843\n",
      "Epoch: 9/50... Step: 360... Loss: 2.3316... Val Loss: 2.8773\n",
      "Epoch: 9/50... Step: 370... Loss: 2.3402... Val Loss: 2.8635\n",
      "Epoch: 9/50... Step: 380... Loss: 2.4039... Val Loss: 2.8817\n",
      "Epoch: 9/50... Step: 390... Loss: 2.2694... Val Loss: 2.8902\n",
      "Epoch: 10/50... Step: 400... Loss: 2.3934... Val Loss: 2.8736\n",
      "Epoch: 10/50... Step: 410... Loss: 2.3442... Val Loss: 2.8706\n",
      "Epoch: 10/50... Step: 420... Loss: 2.3984... Val Loss: 2.8534\n",
      "Epoch: 10/50... Step: 430... Loss: 2.3121... Val Loss: 2.8692\n",
      "Epoch: 10/50... Step: 440... Loss: 2.3157... Val Loss: 2.8714\n",
      "Epoch: 11/50... Step: 450... Loss: 2.2680... Val Loss: 2.8697\n",
      "Epoch: 11/50... Step: 460... Loss: 2.3639... Val Loss: 2.8370\n",
      "Epoch: 11/50... Step: 470... Loss: 2.2591... Val Loss: 2.8511\n",
      "Epoch: 11/50... Step: 480... Loss: 2.3053... Val Loss: 2.8472\n",
      "Epoch: 12/50... Step: 490... Loss: 2.3433... Val Loss: 2.8453\n",
      "Epoch: 12/50... Step: 500... Loss: 2.2912... Val Loss: 2.8751\n",
      "Epoch: 12/50... Step: 510... Loss: 2.2187... Val Loss: 2.8414\n",
      "Epoch: 12/50... Step: 520... Loss: 2.2939... Val Loss: 2.8469\n",
      "Epoch: 13/50... Step: 530... Loss: 2.2956... Val Loss: 2.8434\n",
      "Epoch: 13/50... Step: 540... Loss: 2.2619... Val Loss: 2.8413\n",
      "Epoch: 13/50... Step: 550... Loss: 2.2403... Val Loss: 2.8662\n",
      "Epoch: 13/50... Step: 560... Loss: 2.2458... Val Loss: 2.8508\n",
      "Epoch: 13/50... Step: 570... Loss: 2.2761... Val Loss: 2.8404\n",
      "Epoch: 14/50... Step: 580... Loss: 2.2121... Val Loss: 2.8350\n",
      "Epoch: 14/50... Step: 590... Loss: 2.2154... Val Loss: 2.8243\n",
      "Epoch: 14/50... Step: 600... Loss: 2.2771... Val Loss: 2.8379\n",
      "Epoch: 14/50... Step: 610... Loss: 2.1553... Val Loss: 2.8363\n",
      "Epoch: 15/50... Step: 620... Loss: 2.2703... Val Loss: 2.8192\n",
      "Epoch: 15/50... Step: 630... Loss: 2.2164... Val Loss: 2.8351\n",
      "Epoch: 15/50... Step: 640... Loss: 2.2896... Val Loss: 2.8360\n",
      "Epoch: 15/50... Step: 650... Loss: 2.2039... Val Loss: 2.8435\n",
      "Epoch: 15/50... Step: 660... Loss: 2.2386... Val Loss: 2.8441\n",
      "Epoch: 16/50... Step: 670... Loss: 2.1893... Val Loss: 2.8517\n",
      "Epoch: 16/50... Step: 680... Loss: 2.2695... Val Loss: 2.8147\n",
      "Epoch: 16/50... Step: 690... Loss: 2.1234... Val Loss: 2.8334\n",
      "Epoch: 16/50... Step: 700... Loss: 2.2122... Val Loss: 2.8187\n",
      "Epoch: 17/50... Step: 710... Loss: 2.2180... Val Loss: 2.8295\n",
      "Epoch: 17/50... Step: 720... Loss: 2.1673... Val Loss: 2.8421\n",
      "Epoch: 17/50... Step: 730... Loss: 2.1054... Val Loss: 2.8319\n",
      "Epoch: 17/50... Step: 740... Loss: 2.2058... Val Loss: 2.8509\n",
      "Epoch: 18/50... Step: 750... Loss: 2.1830... Val Loss: 2.8200\n",
      "Epoch: 18/50... Step: 760... Loss: 2.1451... Val Loss: 2.8191\n",
      "Epoch: 18/50... Step: 770... Loss: 2.1129... Val Loss: 2.8151\n",
      "Epoch: 18/50... Step: 780... Loss: 2.1413... Val Loss: 2.8428\n",
      "Epoch: 18/50... Step: 790... Loss: 2.1729... Val Loss: 2.8068\n",
      "Epoch: 19/50... Step: 800... Loss: 2.1077... Val Loss: 2.8288\n",
      "Epoch: 19/50... Step: 810... Loss: 2.1301... Val Loss: 2.8294\n",
      "Epoch: 19/50... Step: 820... Loss: 2.1782... Val Loss: 2.8226\n",
      "Epoch: 19/50... Step: 830... Loss: 2.0739... Val Loss: 2.8291\n",
      "Epoch: 20/50... Step: 840... Loss: 2.1856... Val Loss: 2.8280\n",
      "Epoch: 20/50... Step: 850... Loss: 2.1487... Val Loss: 2.8167\n",
      "Epoch: 20/50... Step: 860... Loss: 2.1925... Val Loss: 2.8193\n",
      "Epoch: 20/50... Step: 870... Loss: 2.1153... Val Loss: 2.8211\n",
      "Epoch: 20/50... Step: 880... Loss: 2.1180... Val Loss: 2.8175\n",
      "Epoch: 21/50... Step: 890... Loss: 2.0822... Val Loss: 2.8206\n",
      "Epoch: 21/50... Step: 900... Loss: 2.1764... Val Loss: 2.8077\n",
      "Epoch: 21/50... Step: 910... Loss: 2.0358... Val Loss: 2.8199\n",
      "Epoch: 21/50... Step: 920... Loss: 2.1207... Val Loss: 2.8157\n",
      "Epoch: 22/50... Step: 930... Loss: 2.1444... Val Loss: 2.8230\n",
      "Epoch: 22/50... Step: 940... Loss: 2.0880... Val Loss: 2.8339\n",
      "Epoch: 22/50... Step: 950... Loss: 2.0084... Val Loss: 2.8218\n",
      "Epoch: 22/50... Step: 960... Loss: 2.1119... Val Loss: 2.8269\n",
      "Epoch: 23/50... Step: 970... Loss: 2.0929... Val Loss: 2.8170\n",
      "Epoch: 23/50... Step: 980... Loss: 2.0496... Val Loss: 2.8018\n",
      "Epoch: 23/50... Step: 990... Loss: 2.0568... Val Loss: 2.8092\n",
      "Epoch: 23/50... Step: 1000... Loss: 2.0610... Val Loss: 2.8358\n",
      "Epoch: 23/50... Step: 1010... Loss: 2.0972... Val Loss: 2.7991\n",
      "Epoch: 24/50... Step: 1020... Loss: 2.0279... Val Loss: 2.8230\n",
      "Epoch: 24/50... Step: 1030... Loss: 2.0387... Val Loss: 2.8301\n",
      "Epoch: 24/50... Step: 1040... Loss: 2.0921... Val Loss: 2.8293\n",
      "Epoch: 24/50... Step: 1050... Loss: 1.9854... Val Loss: 2.8239\n",
      "Epoch: 25/50... Step: 1060... Loss: 2.0976... Val Loss: 2.8326\n",
      "Epoch: 25/50... Step: 1070... Loss: 2.0410... Val Loss: 2.7995\n",
      "Epoch: 25/50... Step: 1080... Loss: 2.1420... Val Loss: 2.8061\n",
      "Epoch: 25/50... Step: 1090... Loss: 2.0260... Val Loss: 2.8221\n",
      "Epoch: 25/50... Step: 1100... Loss: 2.0503... Val Loss: 2.8193\n",
      "Epoch: 26/50... Step: 1110... Loss: 2.0102... Val Loss: 2.8072\n",
      "Epoch: 26/50... Step: 1120... Loss: 2.0921... Val Loss: 2.8088\n",
      "Epoch: 26/50... Step: 1130... Loss: 1.9673... Val Loss: 2.8050\n",
      "Epoch: 26/50... Step: 1140... Loss: 2.0378... Val Loss: 2.8181\n",
      "Epoch: 27/50... Step: 1150... Loss: 2.0590... Val Loss: 2.8153\n",
      "Epoch: 27/50... Step: 1160... Loss: 2.0352... Val Loss: 2.8316\n",
      "Epoch: 27/50... Step: 1170... Loss: 1.9568... Val Loss: 2.8108\n",
      "Epoch: 27/50... Step: 1180... Loss: 2.0320... Val Loss: 2.8348\n",
      "Epoch: 28/50... Step: 1190... Loss: 2.0111... Val Loss: 2.8075\n",
      "Epoch: 28/50... Step: 1200... Loss: 1.9828... Val Loss: 2.7974\n",
      "Epoch: 28/50... Step: 1210... Loss: 1.9585... Val Loss: 2.8119\n",
      "Epoch: 28/50... Step: 1220... Loss: 1.9997... Val Loss: 2.8299\n",
      "Epoch: 28/50... Step: 1230... Loss: 2.0174... Val Loss: 2.8063\n",
      "Epoch: 29/50... Step: 1240... Loss: 1.9643... Val Loss: 2.8108\n",
      "Epoch: 29/50... Step: 1250... Loss: 1.9642... Val Loss: 2.8290\n",
      "Epoch: 29/50... Step: 1260... Loss: 2.0223... Val Loss: 2.8083\n",
      "Epoch: 29/50... Step: 1270... Loss: 1.9163... Val Loss: 2.8091\n",
      "Epoch: 30/50... Step: 1280... Loss: 2.0195... Val Loss: 2.8206\n",
      "Epoch: 30/50... Step: 1290... Loss: 1.9821... Val Loss: 2.7897\n",
      "Epoch: 30/50... Step: 1300... Loss: 2.0729... Val Loss: 2.8083\n",
      "Epoch: 30/50... Step: 1310... Loss: 1.9645... Val Loss: 2.8139\n",
      "Epoch: 30/50... Step: 1320... Loss: 1.9922... Val Loss: 2.7893\n",
      "Epoch: 31/50... Step: 1330... Loss: 1.9315... Val Loss: 2.8122\n",
      "Epoch: 31/50... Step: 1340... Loss: 2.0377... Val Loss: 2.8084\n",
      "Epoch: 31/50... Step: 1350... Loss: 1.8955... Val Loss: 2.8079\n",
      "Epoch: 31/50... Step: 1360... Loss: 1.9644... Val Loss: 2.8173\n",
      "Epoch: 32/50... Step: 1370... Loss: 2.0024... Val Loss: 2.8195\n",
      "Epoch: 32/50... Step: 1380... Loss: 1.9534... Val Loss: 2.7993\n",
      "Epoch: 32/50... Step: 1390... Loss: 1.8920... Val Loss: 2.8175\n",
      "Epoch: 32/50... Step: 1400... Loss: 1.9926... Val Loss: 2.8233\n",
      "Epoch: 33/50... Step: 1410... Loss: 1.9474... Val Loss: 2.8059\n",
      "Epoch: 33/50... Step: 1420... Loss: 1.9304... Val Loss: 2.8001\n",
      "Epoch: 33/50... Step: 1430... Loss: 1.9011... Val Loss: 2.7965\n",
      "Epoch: 33/50... Step: 1440... Loss: 1.9192... Val Loss: 2.8256\n",
      "Epoch: 33/50... Step: 1450... Loss: 1.9782... Val Loss: 2.7991\n",
      "Epoch: 34/50... Step: 1460... Loss: 1.8979... Val Loss: 2.8143\n",
      "Epoch: 34/50... Step: 1470... Loss: 1.9162... Val Loss: 2.8320\n",
      "Epoch: 34/50... Step: 1480... Loss: 1.9531... Val Loss: 2.8173\n",
      "Epoch: 34/50... Step: 1490... Loss: 1.8432... Val Loss: 2.8117\n",
      "Epoch: 35/50... Step: 1500... Loss: 1.9489... Val Loss: 2.8234\n",
      "Epoch: 35/50... Step: 1510... Loss: 1.9112... Val Loss: 2.8001\n",
      "Epoch: 35/50... Step: 1520... Loss: 2.0273... Val Loss: 2.7976\n",
      "Epoch: 35/50... Step: 1530... Loss: 1.8930... Val Loss: 2.8209\n",
      "Epoch: 35/50... Step: 1540... Loss: 1.9156... Val Loss: 2.8037\n",
      "Epoch: 36/50... Step: 1550... Loss: 1.8806... Val Loss: 2.8076\n",
      "Epoch: 36/50... Step: 1560... Loss: 1.9810... Val Loss: 2.8248\n",
      "Epoch: 36/50... Step: 1570... Loss: 1.8315... Val Loss: 2.8044\n",
      "Epoch: 36/50... Step: 1580... Loss: 1.9144... Val Loss: 2.8082\n",
      "Epoch: 37/50... Step: 1590... Loss: 1.9387... Val Loss: 2.8136\n",
      "Epoch: 37/50... Step: 1600... Loss: 1.9077... Val Loss: 2.8167\n",
      "Epoch: 37/50... Step: 1610... Loss: 1.8306... Val Loss: 2.8119\n",
      "Epoch: 37/50... Step: 1620... Loss: 1.9256... Val Loss: 2.8124\n",
      "Epoch: 38/50... Step: 1630... Loss: 1.8954... Val Loss: 2.8007\n",
      "Epoch: 38/50... Step: 1640... Loss: 1.8699... Val Loss: 2.7988\n",
      "Epoch: 38/50... Step: 1650... Loss: 1.8648... Val Loss: 2.8182\n",
      "Epoch: 38/50... Step: 1660... Loss: 1.8800... Val Loss: 2.8173\n",
      "Epoch: 38/50... Step: 1670... Loss: 1.9178... Val Loss: 2.8096\n",
      "Epoch: 39/50... Step: 1680... Loss: 1.8627... Val Loss: 2.8124\n",
      "Epoch: 39/50... Step: 1690... Loss: 1.8722... Val Loss: 2.8137\n",
      "Epoch: 39/50... Step: 1700... Loss: 1.9174... Val Loss: 2.8117\n",
      "Epoch: 39/50... Step: 1710... Loss: 1.7924... Val Loss: 2.8256\n",
      "Epoch: 40/50... Step: 1720... Loss: 1.9050... Val Loss: 2.8093\n",
      "Epoch: 40/50... Step: 1730... Loss: 1.8916... Val Loss: 2.8038\n",
      "Epoch: 40/50... Step: 1740... Loss: 1.9870... Val Loss: 2.8064\n",
      "Epoch: 40/50... Step: 1750... Loss: 1.8532... Val Loss: 2.8319\n",
      "Epoch: 40/50... Step: 1760... Loss: 1.8679... Val Loss: 2.8022\n",
      "Epoch: 41/50... Step: 1770... Loss: 1.8379... Val Loss: 2.8219\n",
      "Epoch: 41/50... Step: 1780... Loss: 1.9307... Val Loss: 2.7991\n",
      "Epoch: 41/50... Step: 1790... Loss: 1.7786... Val Loss: 2.7972\n",
      "Epoch: 41/50... Step: 1800... Loss: 1.8620... Val Loss: 2.8027\n",
      "Epoch: 42/50... Step: 1810... Loss: 1.8700... Val Loss: 2.8229\n",
      "Epoch: 42/50... Step: 1820... Loss: 1.8673... Val Loss: 2.8040\n",
      "Epoch: 42/50... Step: 1830... Loss: 1.7712... Val Loss: 2.7978\n",
      "Epoch: 42/50... Step: 1840... Loss: 1.8850... Val Loss: 2.8254\n",
      "Epoch: 43/50... Step: 1850... Loss: 1.8335... Val Loss: 2.8014\n",
      "Epoch: 43/50... Step: 1860... Loss: 1.8302... Val Loss: 2.8012\n",
      "Epoch: 43/50... Step: 1870... Loss: 1.8019... Val Loss: 2.8128\n",
      "Epoch: 43/50... Step: 1880... Loss: 1.8256... Val Loss: 2.8105\n",
      "Epoch: 43/50... Step: 1890... Loss: 1.8646... Val Loss: 2.8060\n",
      "Epoch: 44/50... Step: 1900... Loss: 1.8004... Val Loss: 2.8150\n",
      "Epoch: 44/50... Step: 1910... Loss: 1.8304... Val Loss: 2.8249\n",
      "Epoch: 44/50... Step: 1920... Loss: 1.8577... Val Loss: 2.8155\n",
      "Epoch: 44/50... Step: 1930... Loss: 1.7578... Val Loss: 2.8173\n",
      "Epoch: 45/50... Step: 1940... Loss: 1.8526... Val Loss: 2.8057\n",
      "Epoch: 45/50... Step: 1950... Loss: 1.8173... Val Loss: 2.7890\n",
      "Epoch: 45/50... Step: 1960... Loss: 1.9236... Val Loss: 2.8007\n",
      "Epoch: 45/50... Step: 1970... Loss: 1.8190... Val Loss: 2.8078\n",
      "Epoch: 45/50... Step: 1980... Loss: 1.8221... Val Loss: 2.8047\n",
      "Epoch: 46/50... Step: 1990... Loss: 1.7902... Val Loss: 2.8146\n",
      "Epoch: 46/50... Step: 2000... Loss: 1.8859... Val Loss: 2.8115\n",
      "Epoch: 46/50... Step: 2010... Loss: 1.7408... Val Loss: 2.7954\n",
      "Epoch: 46/50... Step: 2020... Loss: 1.8461... Val Loss: 2.8219\n",
      "Epoch: 47/50... Step: 2030... Loss: 1.8493... Val Loss: 2.8251\n",
      "Epoch: 47/50... Step: 2040... Loss: 1.8301... Val Loss: 2.8169\n",
      "Epoch: 47/50... Step: 2050... Loss: 1.7412... Val Loss: 2.7985\n",
      "Epoch: 47/50... Step: 2060... Loss: 1.8510... Val Loss: 2.8164\n",
      "Epoch: 48/50... Step: 2070... Loss: 1.8013... Val Loss: 2.8013\n",
      "Epoch: 48/50... Step: 2080... Loss: 1.7665... Val Loss: 2.7966\n",
      "Epoch: 48/50... Step: 2090... Loss: 1.7733... Val Loss: 2.8082\n",
      "Epoch: 48/50... Step: 2100... Loss: 1.8225... Val Loss: 2.7985\n",
      "Epoch: 48/50... Step: 2110... Loss: 1.8116... Val Loss: 2.8050\n",
      "Epoch: 49/50... Step: 2120... Loss: 1.7669... Val Loss: 2.8101\n",
      "Epoch: 49/50... Step: 2130... Loss: 1.7992... Val Loss: 2.8169\n",
      "Epoch: 49/50... Step: 2140... Loss: 1.8216... Val Loss: 2.8039\n",
      "Epoch: 49/50... Step: 2150... Loss: 1.7166... Val Loss: 2.8187\n",
      "Epoch: 50/50... Step: 2160... Loss: 1.8246... Val Loss: 2.8182\n",
      "Epoch: 50/50... Step: 2170... Loss: 1.7865... Val Loss: 2.8102\n",
      "Epoch: 50/50... Step: 2180... Loss: 1.9080... Val Loss: 2.8135\n",
      "Epoch: 50/50... Step: 2190... Loss: 1.7709... Val Loss: 2.8174\n",
      "Epoch: 50/50... Step: 2200... Loss: 1.7962... Val Loss: 2.8024\n"
     ]
    }
   ],
   "source": [
    "batch_size = 32\n",
    "seq_length = 100\n",
    "n_epochs = 50  # Start smaller if you are just testing initial behavior\n",
    "\n",
    "# Train the model\n",
    "train(net, encoded, epochs=n_epochs, batch_size=batch_size, seq_length=seq_length, lr=0.001)"
   ]
  },
  {
   "cell_type": "markdown",
   "metadata": {},
   "source": [
    "## Getting the best model\n",
    "\n",
    "To set your hyperparameters to get the best performance, you'll want to watch the training and validation losses. If your training loss is much lower than the validation loss, you're overfitting. Increase regularization (more dropout) or use a smaller network. If the training and validation losses are close, you're underfitting so you can increase the size of the network."
   ]
  },
  {
   "cell_type": "markdown",
   "metadata": {},
   "source": [
    "## Hyperparameters\n",
    "\n",
    "Here are the hyperparameters for the network.\n",
    "\n",
    "In defining the model:\n",
    "* `n_hidden` - The number of units in the hidden layers.\n",
    "* `n_layers` - Number of hidden LSTM layers to use.\n",
    "\n",
    "We assume that dropout probability and learning rate will be kept at the default, in this example.\n",
    "\n",
    "And in training:\n",
    "* `batch_size` - Number of sequences running through the network in one pass.\n",
    "* `seq_length` - Number of characters in the sequence the network is trained on. Larger is better typically, the network will learn more long range dependencies. But it takes longer to train. 100 is typically a good number here.\n",
    "* `lr` - Learning rate for training\n",
    "\n",
    "Here's some good advice from Andrej Karpathy on training the network. I'm going to copy it in here for your benefit, but also link to [where it originally came from](https://github.com/karpathy/char-rnn#tips-and-tricks).\n",
    "\n",
    "> ## Tips and Tricks\n",
    "\n",
    ">### Monitoring Validation Loss vs. Training Loss\n",
    ">If you're somewhat new to Machine Learning or Neural Networks it can take a bit of expertise to get good models. The most important quantity to keep track of is the difference between your training loss (printed during training) and the validation loss (printed once in a while when the RNN is run on the validation data (by default every 1000 iterations)). In particular:\n",
    "\n",
    "> - If your training loss is much lower than validation loss then this means the network might be **overfitting**. Solutions to this are to decrease your network size, or to increase dropout. For example you could try dropout of 0.5 and so on.\n",
    "> - If your training/validation loss are about equal then your model is **underfitting**. Increase the size of your model (either number of layers or the raw number of neurons per layer)\n",
    "\n",
    "> ### Approximate number of parameters\n",
    "\n",
    "> The two most important parameters that control the model are `n_hidden` and `n_layers`. I would advise that you always use `n_layers` of either 2/3. The `n_hidden` can be adjusted based on how much data you have. The two important quantities to keep track of here are:\n",
    "\n",
    "> - The number of parameters in your model. This is printed when you start training.\n",
    "> - The size of your dataset. 1MB file is approximately 1 million characters.\n",
    "\n",
    ">These two should be about the same order of magnitude. It's a little tricky to tell. Here are some examples:\n",
    "\n",
    "> - I have a 100MB dataset and I'm using the default parameter settings (which currently print 150K parameters). My data size is significantly larger (100 mil >> 0.15 mil), so I expect to heavily underfit. I am thinking I can comfortably afford to make `n_hidden` larger.\n",
    "> - I have a 10MB dataset and running a 10 million parameter model. I'm slightly nervous and I'm carefully monitoring my validation loss. If it's larger than my training loss then I may want to try to increase dropout a bit and see if that helps the validation loss.\n",
    "\n",
    "> ### Best models strategy\n",
    "\n",
    ">The winning strategy to obtaining very good models (if you have the compute time) is to always err on making the network larger (as large as you're willing to wait for it to compute) and then try different dropout values (between 0,1). Whatever model has the best validation performance (the loss, written in the checkpoint filename, low is good) is the one you should use in the end.\n",
    "\n",
    ">It is very common in deep learning to run many different models with many different hyperparameter settings, and in the end take whatever checkpoint gave the best validation performance.\n",
    "\n",
    ">By the way, the size of your training and validation splits are also parameters. Make sure you have a decent amount of data in your validation set or otherwise the validation performance will be noisy and not very informative."
   ]
  },
  {
   "cell_type": "markdown",
   "metadata": {},
   "source": [
    "## Checkpoint\n",
    "\n",
    "After training, we'll save the model so we can load it again later if we need too. Here I'm saving the parameters needed to create the same architecture, the hidden layer hyperparameters and the text characters."
   ]
  },
  {
   "cell_type": "code",
   "execution_count": 187,
   "metadata": {},
   "outputs": [],
   "source": [
    "# change the name, for saving multiple files\n",
    "model_name = 'rnn_x_epoch.net'\n",
    "\n",
    "checkpoint = {'n_hidden': net.n_hidden,\n",
    "              'n_layers': net.n_layers,\n",
    "              'state_dict': net.state_dict(),\n",
    "              'tokens': net.chars}\n",
    "\n",
    "with open(model_name, 'wb') as f:\n",
    "    torch.save(checkpoint, f)"
   ]
  },
  {
   "cell_type": "markdown",
   "metadata": {},
   "source": [
    "---\n",
    "## Making Predictions\n",
    "\n",
    "Now that the model is trained, we'll want to sample from it and make predictions about next characters! To sample, we pass in a character and have the network predict the next character. Then we take that character, pass it back in, and get another predicted character. Just keep doing this and you'll generate a bunch of text!\n",
    "\n",
    "### A note on the `predict`  function\n",
    "\n",
    "The output of our RNN is from a fully-connected layer and it outputs a **distribution of next-character scores**.\n",
    "\n",
    "> To actually get the next character, we apply a softmax function, which gives us a *probability* distribution that we can then sample to predict the next character.\n",
    "\n",
    "### Top K sampling\n",
    "\n",
    "Our predictions come from a categorical probability distribution over all the possible characters. We can make the sample text and make it more reasonable to handle (with less variables) by only considering some $K$ most probable characters. This will prevent the network from giving us completely absurd characters while allowing it to introduce some noise and randomness into the sampled text. Read more about [topk, here](https://pytorch.org/docs/stable/torch.html#torch.topk).\n"
   ]
  },
  {
   "cell_type": "code",
   "execution_count": 188,
   "metadata": {},
   "outputs": [],
   "source": [
    "def predict(net, char, h=None, top_k=None):\n",
    "        ''' Given a character, predict the next character.\n",
    "            Returns the predicted character and the hidden state.\n",
    "        '''\n",
    "        \n",
    "        # tensor inputs\n",
    "        x = np.array([[net.char2int[char]]])\n",
    "        x = one_hot_encode(x, len(net.chars))\n",
    "        inputs = torch.from_numpy(x)\n",
    "        \n",
    "        if(train_on_gpu):\n",
    "            inputs = inputs.to(device)\n",
    "        \n",
    "        # detach hidden state from history\n",
    "        h = tuple([each.data for each in h])\n",
    "        # get the output of the model\n",
    "        out, h = net(inputs, h)\n",
    "\n",
    "        # get the character probabilities\n",
    "        p = F.softmax(out, dim=1).data\n",
    "        if(train_on_gpu):\n",
    "            p = p.cpu() # move to cpu\n",
    "        \n",
    "        # get top characters\n",
    "        if top_k is None:\n",
    "            top_ch = np.arange(len(net.chars))\n",
    "        else:\n",
    "            p, top_ch = p.topk(top_k)\n",
    "            top_ch = top_ch.numpy().squeeze()\n",
    "        \n",
    "        # select the likely next character with some element of randomness\n",
    "        p = p.numpy().squeeze()\n",
    "        char = np.random.choice(top_ch, p=p/p.sum())\n",
    "        \n",
    "        # return the encoded value of the predicted char and the hidden state\n",
    "        return net.int2char[char], h"
   ]
  },
  {
   "cell_type": "markdown",
   "metadata": {},
   "source": [
    "### Priming and generating text \n",
    "\n",
    "Typically you'll want to prime the network so you can build up a hidden state. Otherwise the network will start out generating characters at random. In general the first bunch of characters will be a little rough since it hasn't built up a long history of characters to predict from."
   ]
  },
  {
   "cell_type": "code",
   "execution_count": 189,
   "metadata": {},
   "outputs": [],
   "source": [
    "def sample(net, size, prime='The', top_k=None):\n",
    "        \n",
    "    if(train_on_gpu):\n",
    "        net.to(device)\n",
    "    else:\n",
    "        net.cpu()\n",
    "    \n",
    "    net.eval() # eval mode\n",
    "    \n",
    "    # First off, run through the prime characters\n",
    "    chars = [ch for ch in prime]\n",
    "    h = net.init_hidden(1)\n",
    "    for ch in prime:\n",
    "        char, h = predict(net, ch, h, top_k=top_k)\n",
    "\n",
    "    chars.append(char)\n",
    "    \n",
    "    # Now pass in the previous character and get a new one\n",
    "    for ii in range(size):\n",
    "        char, h = predict(net, chars[-1], h, top_k=top_k)\n",
    "        chars.append(char)\n",
    "\n",
    "    return ''.join(chars)"
   ]
  },
  {
   "cell_type": "code",
   "execution_count": 190,
   "metadata": {},
   "outputs": [
    {
     "name": "stdout",
     "output_type": "stream",
     "text": [
      "Alice thougtt there was he would.”\n",
      "\n",
      "The Glyphon\n",
      "when hore thill wand a shrinking to shat her,\n",
      "wat whoter she see the courd, wat as the Queen,\n",
      "she came them she\n",
      "wouddron of the created, and said the Dormester.\n",
      "\n",
      "“I was all all to me of the made to be the think! “I don’t datter to sat of a leats to some wall,” said the Morce Hade as the Mirke.\n",
      "\n",
      "“I more a last it tire.”\n",
      "\n",
      "“You went’s were a label and and said, the back turt and the might and\n",
      "shemere the cas the could to her the cumpense the what\n",
      "the more of if a listling, and the Mock I’s the chore tone or a throung in the his head,\n",
      "be a merinute,” the Hatter had sertill the soull,” then the Dontouse the was a taicut onering to sees and a dey and shind, and the sonden.\n",
      "Alice were she\n",
      "talked in the tare is\n",
      "which tare, and shime to sile of the corrers and the wording ther samith seemer and the came all to hersel the seat.\n",
      "\n",
      "“Of courte, I’r tolling to hinderered,” said she chought. “I’ve you dean!” thit saice the Queen, and a sone so begor all the th\n"
     ]
    }
   ],
   "source": [
    "print(sample(net, 1000, prime='Alice', top_k=5))"
   ]
  },
  {
   "cell_type": "markdown",
   "metadata": {},
   "source": [
    "## Loading a checkpoint"
   ]
  },
  {
   "cell_type": "code",
   "execution_count": 191,
   "metadata": {},
   "outputs": [
    {
     "data": {
      "text/plain": [
       "<All keys matched successfully>"
      ]
     },
     "execution_count": 191,
     "metadata": {},
     "output_type": "execute_result"
    }
   ],
   "source": [
    "# Here we have loaded in a model that trained over 20 epochs `rnn_20_epoch.net`\n",
    "with open('rnn_x_epoch.net', 'rb') as f:\n",
    "    checkpoint = torch.load(f)\n",
    "    \n",
    "loaded = CharRNN(checkpoint['tokens'], n_hidden=checkpoint['n_hidden'], n_layers=checkpoint['n_layers'])\n",
    "loaded.load_state_dict(checkpoint['state_dict'])"
   ]
  },
  {
   "cell_type": "code",
   "execution_count": 192,
   "metadata": {},
   "outputs": [
    {
     "name": "stdout",
     "output_type": "stream",
     "text": [
      "card, and a grean\n",
      "a sorpess, “It was thought so booking was so be thing.”\n",
      "\n",
      "“I con’t head this while wand the could. I’l cat it, I mound the much wourd!” she was to said this ary than at a lowsed a the watther of care of the hadstlas, “I what soor a terplone in, and was thound.”\n",
      "\n",
      "Alice sisted: she said to sime showe than the soon in the sand they had all the whase\n",
      "and as as she, “out in think to me the sate and would the sone of it seat it, and to sat the mush suct on of is or any sool\n",
      "house the woster, so shat’d shall if.” Alice shall herself as\n",
      "the west on seoned the serimer at sick tarked to to there seiled, and they side to they she, was so sill her they alded hore shoon the\n",
      "wishing\n",
      "allest of the crored.\n",
      "\n",
      "“Oh the that the couls,” said she saided of the puctile thing in tall and the wand it the way allist to tall the bind, and they her to sore,\n",
      "“I sore of the cat as, and way in a ling, were the west of sain to think\n",
      "in it winken of it ase\n",
      "then’ll she thow it to her, thit heresh as the harded a bout all thing,” Arice was sare off sime one shoully tore to she how seeming.\n",
      "\n",
      "\n",
      "Alo this the she sont in he charled the hight it on in it was hought sore\n",
      "so she courde the cause, wat it thouged and whoce and\n",
      "asely and with a little sory were the seonded and a poon to har on of that.\n",
      "\n",
      "“Woll the with said,” said Alice thoughing to some where who shat sinden at had shald in a linger to tilk\n",
      "the hourd at the\n",
      "poon that, “they sound all a gist a tanging terpore of the, were the wast a song it sinder intery ang at hould shing it, I’m to sing at ip the sid it’s\n",
      "of have wey in\n",
      "she door all\n",
      "the wonded the tould tarl of\n",
      "this hoid as she with the becterises and all that she saming as the shrees anl she have shoulld shoughed out herself to herself on hand in her simping of the tone the sard how were a doul the cool on, she could song the wert\n",
      "on thing tong the songer to then they. “Would!” said Alice; and at hand hen same and trotter and all as he tome the seeged on the way of thing.\n",
      "\n",
      "“You mo\n"
     ]
    }
   ],
   "source": [
    "# Sample using a loaded model\n",
    "print(sample(loaded, 2000, top_k=5, prime=\"card\"))"
   ]
  },
  {
   "cell_type": "code",
   "execution_count": null,
   "metadata": {},
   "outputs": [],
   "source": []
  }
 ],
 "metadata": {
  "kernelspec": {
   "display_name": "Python 3 (ipykernel)",
   "language": "python",
   "name": "python3"
  },
  "language_info": {
   "codemirror_mode": {
    "name": "ipython",
    "version": 3
   },
   "file_extension": ".py",
   "mimetype": "text/x-python",
   "name": "python",
   "nbconvert_exporter": "python",
   "pygments_lexer": "ipython3",
   "version": "3.11.5"
  }
 },
 "nbformat": 4,
 "nbformat_minor": 4
}
